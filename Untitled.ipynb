{
 "cells": [
  {
   "cell_type": "markdown",
   "id": "b5da85a0-8130-459c-b83b-7f7332e9e949",
   "metadata": {},
   "source": [
    "## cell1"
   ]
  },
  {
   "cell_type": "markdown",
   "id": "5b650978-311f-4b23-b76d-a77b01e0348d",
   "metadata": {},
   "source": [
    "# my jupyter notebook on ibm watson"
   ]
  },
  {
   "cell_type": "markdown",
   "id": "33fc14c4-3e88-4e57-94e5-3cb622fb166f",
   "metadata": {},
   "source": [
    "## cell 2"
   ]
  },
  {
   "cell_type": "markdown",
   "id": "bd07f6e5-2625-428a-80e4-1b40bd64f809",
   "metadata": {},
   "source": [
    "### isaac\n"
   ]
  },
  {
   "cell_type": "markdown",
   "id": "8e8e4e81-98ff-4d50-b7f9-d46223bcaa66",
   "metadata": {},
   "source": [
    "fresher\n"
   ]
  },
  {
   "cell_type": "markdown",
   "id": "ba5d22af-5030-4a42-bf2d-88b2acb6524b",
   "metadata": {},
   "source": [
    "## cell 3"
   ]
  },
  {
   "cell_type": "markdown",
   "id": "1ec2b63f-2d66-4642-aa3d-0c3919a59253",
   "metadata": {},
   "source": [
    "*I am intersted in datascience because i love it and i will learn more*"
   ]
  },
  {
   "cell_type": "markdown",
   "id": "b1251486-2aea-4eeb-a119-f86109db8fd1",
   "metadata": {},
   "source": [
    "## cell 4"
   ]
  },
  {
   "cell_type": "markdown",
   "id": "2d2fe37d-9c4f-4d94-9392-7fb34f3a605b",
   "metadata": {},
   "source": [
    "### program saying hello with your name"
   ]
  },
  {
   "cell_type": "markdown",
   "id": "5bc6c8b9-9f1e-4a7d-840f-dabbe1e8a3cc",
   "metadata": {},
   "source": [
    "## cell  5"
   ]
  },
  {
   "cell_type": "code",
   "execution_count": 5,
   "id": "67bc85fb-be0c-42ee-9f2d-280a5b96545a",
   "metadata": {},
   "outputs": [
    {
     "name": "stdin",
     "output_type": "stream",
     "text": [
      "enter your name :  isaac\n"
     ]
    },
    {
     "name": "stdout",
     "output_type": "stream",
     "text": [
      " hello isaac\n"
     ]
    }
   ],
   "source": [
    "name = input(\"enter your name : \")\n",
    "print(\" hello \" + name)"
   ]
  },
  {
   "cell_type": "markdown",
   "id": "27f6b3c3-e80a-4597-9813-288ff2b6298d",
   "metadata": {},
   "source": [
    "## cell6"
   ]
  },
  {
   "cell_type": "markdown",
   "id": "c98f9703-b49d-4d9c-a85b-07b929c37dfa",
   "metadata": {},
   "source": [
    "- bullet\n"
   ]
  },
  {
   "cell_type": "markdown",
   "id": "55d773cd-eabe-4344-8796-d3520b51a3fc",
   "metadata": {},
   "source": [
    "1 numberlist\n"
   ]
  },
  {
   "cell_type": "markdown",
   "id": "8ba30f66-d860-4d48-87fd-10910a7a9c25",
   "metadata": {},
   "source": [
    "***"
   ]
  },
  {
   "cell_type": "code",
   "execution_count": null,
   "id": "3d3764ee-15dc-4b94-86cd-8c06c4d565c4",
   "metadata": {},
   "outputs": [],
   "source": []
  }
 ],
 "metadata": {
  "kernelspec": {
   "display_name": "Python",
   "language": "python",
   "name": "conda-env-python-py"
  },
  "language_info": {
   "codemirror_mode": {
    "name": "ipython",
    "version": 3
   },
   "file_extension": ".py",
   "mimetype": "text/x-python",
   "name": "python",
   "nbconvert_exporter": "python",
   "pygments_lexer": "ipython3",
   "version": "3.7.12"
  }
 },
 "nbformat": 4,
 "nbformat_minor": 5
}
